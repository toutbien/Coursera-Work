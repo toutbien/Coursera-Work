{
  "nbformat": 4,
  "nbformat_minor": 0,
  "metadata": {
    "colab": {
      "name": "Untitled5.ipynb",
      "provenance": [],
      "authorship_tag": "ABX9TyPygXukFksQCwgKXhSzqtrs",
      "include_colab_link": true
    },
    "kernelspec": {
      "name": "python3",
      "display_name": "Python 3"
    },
    "language_info": {
      "name": "python"
    }
  },
  "cells": [
    {
      "cell_type": "markdown",
      "metadata": {
        "id": "view-in-github",
        "colab_type": "text"
      },
      "source": [
        "<a href=\"https://colab.research.google.com/github/toutbien/Coursera-Work/blob/main/babypython_string.ipynb\" target=\"_parent\"><img src=\"https://colab.research.google.com/assets/colab-badge.svg\" alt=\"Open In Colab\"/></a>"
      ]
    },
    {
      "cell_type": "code",
      "execution_count": 17,
      "metadata": {
        "colab": {
          "base_uri": "https://localhost:8080/"
        },
        "id": "MspKyJAhIql_",
        "outputId": "ce72dbfc-9d31-474e-b5e3-f52f4131a38c"
      },
      "outputs": [
        {
          "output_type": "stream",
          "name": "stdout",
          "text": [
            "What is your favorite topping?cheese\n",
            "('Bacon cheese', 'lettuce')\n",
            "Bacon, cheese, lettuce\n",
            "Bacon, lettuce, cheese\n"
          ]
        }
      ],
      "source": [
        "#this is a script that plays with time sleep and input output variations in strings\n",
        "\n",
        "import time\n",
        "\n",
        "my_favorite = 'lettuce'\n",
        "your_favorite = str(input('What is your favorite topping?'))\n",
        "test_output = 'Bacon, ' + your_favorite + '', my_favorite\n",
        "test_output1 = 'Bacon, {}, {}'.format(your_favorite, my_favorite)\n",
        "test_output2 = 'Bacon, {1}, {0}'.format(your_favorite, my_favorite)\n",
        "print(test_output)\n",
        "time.sleep(2)\n",
        "print(test_output1)\n",
        "time.sleep(2)\n",
        "print(test_output2)\n",
        "\n"
      ]
    },
    {
      "cell_type": "code",
      "source": [
        ""
      ],
      "metadata": {
        "id": "LeumjsqzIs4m"
      },
      "execution_count": null,
      "outputs": []
    }
  ]
}