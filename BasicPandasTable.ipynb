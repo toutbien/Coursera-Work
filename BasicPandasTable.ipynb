{
  "nbformat": 4,
  "nbformat_minor": 0,
  "metadata": {
    "colab": {
      "name": "Untitled5.ipynb",
      "provenance": [],
      "authorship_tag": "ABX9TyMf9tVs/BLj4fc0o2cIkatE",
      "include_colab_link": true
    },
    "kernelspec": {
      "name": "python3",
      "display_name": "Python 3"
    },
    "language_info": {
      "name": "python"
    }
  },
  "cells": [
    {
      "cell_type": "markdown",
      "metadata": {
        "id": "view-in-github",
        "colab_type": "text"
      },
      "source": [
        "<a href=\"https://colab.research.google.com/github/toutbien/Coursera-Work/blob/main/BasicPandasTable.ipynb\" target=\"_parent\"><img src=\"https://colab.research.google.com/assets/colab-badge.svg\" alt=\"Open In Colab\"/></a>"
      ]
    },
    {
      "cell_type": "code",
      "source": [
        "#basic table creation and dataframe management in python\n",
        "#fictionally created lists of jobs and salaries\n",
        "\n",
        "salary_1 = 65000\n",
        "salary_2 = 70000\n",
        "salary_3 = 80000\n",
        "salary_4 = 100000\n",
        "salary_5 = 121000\n",
        "\n",
        "entry_it = 'Jr DevOps'\n",
        "mid_it = 'DevOps Engineer'\n",
        "sr_it = 'Sr DevOps'\n",
        "sre = 'Site Rel Eng'\n",
        "sr_sre = 'Sr Site Rel Eng'\n",
        "\n",
        "import pandas as pd\n",
        "\n",
        "Job_Salaries = [ [entry_it, salary_1],\n",
        "                [mid_it, salary_2],\n",
        "                [sr_it,salary_3],\n",
        "                [sre, salary_4],\n",
        "                [sr_sre,salary_5] ]\n",
        "   \n",
        "df = pd.DataFrame(Job_Salaries, columns = [\"Title\",\"Salary\"])\n",
        "\n",
        "print(df)\n",
        "\n",
        "#to produce results on a single line from a dictionary:\n",
        "#<----!\n",
        "#Job_Salaries = dict(zip([entry_it,mid_it,sr_it,sre,sr_sre],[salary_1,salary_2,salary_3,salary_4,salary_5]))\n",
        "#-----!>"
      ],
      "metadata": {
        "colab": {
          "base_uri": "https://localhost:8080/"
        },
        "outputId": "131f0bba-4d66-4f2b-b855-466daca7c6ac",
        "id": "Y2PmqypdWjWf"
      },
      "execution_count": 41,
      "outputs": [
        {
          "output_type": "stream",
          "name": "stdout",
          "text": [
            "             Title  Salary\n",
            "0        Jr DevOps   65000\n",
            "1  DevOps Engineer   70000\n",
            "2        Sr DevOps   80000\n",
            "3     Site Rel Eng  100000\n",
            "4  Sr Site Rel Eng  121000\n"
          ]
        }
      ]
    },
    {
      "cell_type": "code",
      "source": [
        ""
      ],
      "metadata": {
        "id": "ab5dZQ6agYk8"
      },
      "execution_count": null,
      "outputs": []
    }
  ]
}